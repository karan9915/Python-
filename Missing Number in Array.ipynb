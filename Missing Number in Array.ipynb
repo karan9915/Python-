{
 "cells": [
  {
   "cell_type": "code",
   "execution_count": null,
   "metadata": {},
   "outputs": [],
   "source": [
    "arr = [9,4,6,3,0,7,2,1]\n",
    "size = len(arr)\n",
    "y = set()\n",
    "\n",
    "for i in arr:\n",
    "    y.add(i)\n",
    "    \n",
    "count = 0\n",
    "\n",
    "for i in range(size):\n",
    "    if count not in y:\n",
    "        print()"
   ]
  }
 ],
 "metadata": {
  "kernelspec": {
   "display_name": "Python 3",
   "language": "python",
   "name": "python3"
  }
 },
 "nbformat": 4,
 "nbformat_minor": 4
}
