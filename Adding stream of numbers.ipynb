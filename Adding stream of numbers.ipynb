{
 "cells": [
  {
   "cell_type": "markdown",
   "metadata": {},
   "source": [
    "### Write a Python program which will keep adding a stream of numbers inputted by the use. "
   ]
  },
  {
   "cell_type": "markdown",
   "metadata": {},
   "source": [
    "### The adding stops as soon as user presses q key on the keyboard."
   ]
  },
  {
   "cell_type": "code",
   "execution_count": 1,
   "metadata": {},
   "outputs": [
    {
     "name": "stdout",
     "output_type": "stream",
     "text": [
      "Enter the price or press q to Quit: \n",
      "10\n",
      "Order total so far: 10\n",
      "Enter the price or press q to Quit: \n",
      "5\n",
      "Order total so far: 15\n",
      "Enter the price or press q to Quit: \n",
      "15\n",
      "Order total so far: 30\n",
      "Enter the price or press q to Quit: \n",
      "q\n",
      "Your Total Bill is 30. Thanks for shopping with us.\n"
     ]
    }
   ],
   "source": [
    "sum = 0\n",
    "while True:\n",
    "    userInput = input(\"Enter the price or press q to Quit: \\n\")\n",
    "    \n",
    "    if userInput!='q':\n",
    "        sum = sum + int(userInput)\n",
    "        print(f\"Order total so far: {sum}\")\n",
    "    else:\n",
    "        print(f\"Your Total Bill is {sum}. Thanks for shopping with us.\")\n",
    "        break\n",
    "        "
   ]
  }
 ],
 "metadata": {
  "kernelspec": {
   "display_name": "Python 3",
   "language": "python",
   "name": "python3"
  },
  "language_info": {
   "codemirror_mode": {
    "name": "ipython",
    "version": 3
   },
   "file_extension": ".py",
   "mimetype": "text/x-python",
   "name": "python",
   "nbconvert_exporter": "python",
   "pygments_lexer": "ipython3",
   "version": "3.7.6"
  }
 },
 "nbformat": 4,
 "nbformat_minor": 4
}
