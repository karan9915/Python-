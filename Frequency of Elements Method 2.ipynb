{
 "cells": [
  {
   "cell_type": "code",
   "execution_count": 1,
   "metadata": {},
   "outputs": [],
   "source": [
    "def countFreq(s):\n",
    "    mp = dict()\n",
    "    \n",
    "    for i in range(len(s)):\n",
    "        if s[i] not in mp.keys():\n",
    "            mp[s[i]] = 1\n",
    "        else:\n",
    "            oldval = mp[s[i]]\n",
    "            newval = oldval + 1\n",
    "            mp[s[i]] = newval\n",
    "            \n",
    "    for key,value in mp.items():\n",
    "        print(key,\" \",value)"
   ]
  },
  {
   "cell_type": "code",
   "execution_count": 2,
   "metadata": {},
   "outputs": [
    {
     "name": "stdout",
     "output_type": "stream",
     "text": [
      "a   2\n",
      "b   3\n",
      "c   1\n",
      "d   2\n",
      "e   4\n",
      "f   1\n"
     ]
    }
   ],
   "source": [
    "s = \"aabbbcddeeeef\"\n",
    "countFreq(s)"
   ]
  }
 ],
 "metadata": {
  "kernelspec": {
   "display_name": "Python 3",
   "language": "python",
   "name": "python3"
  },
  "language_info": {
   "codemirror_mode": {
    "name": "ipython",
    "version": 3
   },
   "file_extension": ".py",
   "mimetype": "text/x-python",
   "name": "python",
   "nbconvert_exporter": "python",
   "pygments_lexer": "ipython3",
   "version": "3.7.6"
  }
 },
 "nbformat": 4,
 "nbformat_minor": 4
}
