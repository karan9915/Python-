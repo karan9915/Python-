{
 "cells": [
  {
   "cell_type": "code",
   "execution_count": 1,
   "metadata": {},
   "outputs": [
    {
     "name": "stdout",
     "output_type": "stream",
     "text": [
      "Enter a number \n",
      "20\n",
      "The factorial is 2432902008176640000\n",
      "4\n"
     ]
    }
   ],
   "source": [
    "def factorial(number):\n",
    "    if number==0 or number==1:\n",
    "        return 1\n",
    "    else:\n",
    "        return number * factorial(number-1)\n",
    "\n",
    "def factorialTrailingZeros(number):\n",
    "    fac = factorial(number)\n",
    "    count = 0\n",
    "    \n",
    "    while fac%10==0:\n",
    "        count = count + 1\n",
    "        fac = fac/10\n",
    "    \n",
    "    return count\n",
    "\n",
    "if __name__==\"__main__\":\n",
    "    number = int(input(\"Enter a number \\n\"))\n",
    "    fac = factorial(number)\n",
    "    print(f\"The factorial is {fac}\")\n",
    "    print(factorialTrailingZeros(number))"
   ]
  }
 ],
 "metadata": {
  "kernelspec": {
   "display_name": "Python 3",
   "language": "python",
   "name": "python3"
  },
  "language_info": {
   "codemirror_mode": {
    "name": "ipython",
    "version": 3
   },
   "file_extension": ".py",
   "mimetype": "text/x-python",
   "name": "python",
   "nbconvert_exporter": "python",
   "pygments_lexer": "ipython3",
   "version": "3.7.6"
  }
 },
 "nbformat": 4,
 "nbformat_minor": 4
}
