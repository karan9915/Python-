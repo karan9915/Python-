{
 "cells": [
  {
   "cell_type": "code",
   "execution_count": 1,
   "metadata": {},
   "outputs": [],
   "source": [
    "def freqOfElements(s):\n",
    "    size = len(s)\n",
    "    freq = dict()\n",
    "    for i in range(size):\n",
    "        if s[i] not in freq:\n",
    "            freq[s[i]] = 1\n",
    "        else:\n",
    "            oldval = freq[s[i]]\n",
    "            newval = oldval + 1\n",
    "            freq[s[i]] = newval\n",
    "    \n",
    "    for k,v in freq.items():\n",
    "        print(k , \" \" , v)"
   ]
  },
  {
   "cell_type": "code",
   "execution_count": 2,
   "metadata": {},
   "outputs": [
    {
     "name": "stdout",
     "output_type": "stream",
     "text": [
      "a   3\n",
      "b   2\n",
      "c   4\n",
      "d   3\n",
      "e   1\n"
     ]
    }
   ],
   "source": [
    "s = \"aaabbccccddde\"\n",
    "freqOfElements(s)"
   ]
  }
 ],
 "metadata": {
  "kernelspec": {
   "display_name": "Python 3",
   "language": "python",
   "name": "python3"
  },
  "language_info": {
   "codemirror_mode": {
    "name": "ipython",
    "version": 3
   },
   "file_extension": ".py",
   "mimetype": "text/x-python",
   "name": "python",
   "nbconvert_exporter": "python",
   "pygments_lexer": "ipython3",
   "version": "3.7.6"
  }
 },
 "nbformat": 4,
 "nbformat_minor": 4
}
